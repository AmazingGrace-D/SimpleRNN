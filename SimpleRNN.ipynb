{
  "nbformat": 4,
  "nbformat_minor": 0,
  "metadata": {
    "colab": {
      "name": "SimpleRNN",
      "provenance": [],
      "authorship_tag": "ABX9TyP0SzlN55rmSgcaQax/Loxf",
      "include_colab_link": true
    },
    "kernelspec": {
      "name": "python3",
      "display_name": "Python 3"
    }
  },
  "cells": [
    {
      "cell_type": "markdown",
      "metadata": {
        "id": "view-in-github",
        "colab_type": "text"
      },
      "source": [
        "<a href=\"https://colab.research.google.com/github/AmazingGrace-D/SimpleRNN/blob/main/SimpleRNN.ipynb\" target=\"_parent\"><img src=\"https://colab.research.google.com/assets/colab-badge.svg\" alt=\"Open In Colab\"/></a>"
      ]
    },
    {
      "cell_type": "code",
      "metadata": {
        "id": "KOsLdOQvIeFN"
      },
      "source": [
        "import pandas as pd\r\n",
        "import numpy as np\r\n",
        "import matplotlib.pyplot as plt"
      ],
      "execution_count": 1,
      "outputs": []
    },
    {
      "cell_type": "code",
      "metadata": {
        "id": "CJJRY0YTJjaF"
      },
      "source": [
        "import tensorflow as tf\r\n",
        "from tensorflow.keras.layers import Input, Dense, SimpleRNN\r\n",
        "from tensorflow.keras.models import Model\r\n",
        "from tensorflow.keras.optimizers import Adam, SGD"
      ],
      "execution_count": 2,
      "outputs": []
    },
    {
      "cell_type": "code",
      "metadata": {
        "id": "LZFJURKrMc4i"
      },
      "source": [
        "series = np.sin(0.1 * np.arange(200)) + #np.random.randn(200) * 0.1"
      ],
      "execution_count": 3,
      "outputs": []
    },
    {
      "cell_type": "code",
      "metadata": {
        "colab": {
          "base_uri": "https://localhost:8080/",
          "height": 283
        },
        "id": "NyNXjscLNL23",
        "outputId": "62cae08c-bb91-484f-a53a-2f2dfab7ccb1"
      },
      "source": [
        "plt.plot(series)"
      ],
      "execution_count": 4,
      "outputs": [
        {
          "output_type": "execute_result",
          "data": {
            "text/plain": [
              "[<matplotlib.lines.Line2D at 0x7fd05efe2240>]"
            ]
          },
          "metadata": {
            "tags": []
          },
          "execution_count": 4
        },
        {
          "output_type": "display_data",
          "data": {
            "image/png": "[encoded data removed]",
            "text/plain": [
              "<Figure size 432x288 with 1 Axes>"
            ]
          },
          "metadata": {
            "tags": [],
            "needs_background": "light"
          }
        }
      ]
    },
    {
      "cell_type": "code",
      "metadata": {
        "colab": {
          "base_uri": "https://localhost:8080/"
        },
        "id": "DDRXJiNQNOwU",
        "outputId": "190e9bcd-2d8b-404d-face-6a63a8b5489b"
      },
      "source": [
        "# Using previous 10 points to predict the next point\r\n",
        "\r\n",
        "T = 10\r\n",
        "X = []\r\n",
        "Y = []\r\n",
        "\r\n",
        "for t in range(len(series) - T):\r\n",
        "  x = series[t:t+T]\r\n",
        "  X.append(x)\r\n",
        "  y = series[t+T]\r\n",
        "  Y.append(y)\r\n",
        "\r\n",
        "X = np.array(X).reshape(-1, T, 1) # Shape N x T x D\r\n",
        "Y = np.array(Y)\r\n",
        "N = len(X)\r\n",
        "print(X.shape)\r\n",
        "\r\n",
        "\r\n",
        "print(Y.shape)"
      ],
      "execution_count": 5,
      "outputs": [
        {
          "output_type": "stream",
          "text": [
            "(190, 10, 1)\n",
            "(190,)\n"
          ],
          "name": "stdout"
        }
      ]
    },
    {
      "cell_type": "code",
      "metadata": {
        "id": "t-5cNlZ_OygH",
        "colab": {
          "base_uri": "https://localhost:8080/"
        },
        "outputId": "a5857afe-5b6a-4670-d2f2-850c88b1da71"
      },
      "source": [
        "#Model\r\n",
        "\r\n",
        "i = Input(shape = (T, 1))\r\n",
        "x = SimpleRNN(5)(i) # activation is automatically tanh\r\n",
        "x = Dense(1)(x)\r\n",
        "\r\n",
        "model = Model(i, x)\r\n",
        "\r\n",
        "model.compile(\r\n",
        "    loss = 'mse',\r\n",
        "    optimizer = Adam(lr = 0.1)\r\n",
        ")\r\n",
        "\r\n",
        "r = model.fit(X[:-N//2], Y[:-N//2],\r\n",
        "              epochs = 150,\r\n",
        "              validation_data = (X[-N//2:], Y[-N//2:]))"
      ],
      "execution_count": 23,
      "outputs": [
        {
          "output_type": "stream",
          "text": [
            "Epoch 1/150\n",
            "3/3 [==============================] - 1s 111ms/step - loss: 0.7151 - val_loss: 0.2426\n",
            "Epoch 2/150\n",
            "3/3 [==============================] - 0s 21ms/step - loss: 0.1949 - val_loss: 0.0232\n",
            "Epoch 3/150\n",
            "3/3 [==============================] - 0s 24ms/step - loss: 0.0335 - val_loss: 0.0634\n",
            "Epoch 4/150\n",
            "3/3 [==============================] - 0s 20ms/step - loss: 0.0337 - val_loss: 0.0189\n",
            "Epoch 5/150\n",
            "3/3 [==============================] - 0s 21ms/step - loss: 0.0203 - val_loss: 0.0155\n",
            "Epoch 6/150\n",
            "3/3 [==============================] - 0s 21ms/step - loss: 0.0110 - val_loss: 0.0192\n",
            "Epoch 7/150\n",
            "3/3 [==============================] - 0s 123ms/step - loss: 0.0129 - val_loss: 0.0151\n",
            "Epoch 8/150\n",
            "3/3 [==============================] - 0s 21ms/step - loss: 0.0093 - val_loss: 0.0077\n",
            "Epoch 9/150\n",
            "3/3 [==============================] - 0s 21ms/step - loss: 0.0078 - val_loss: 0.0037\n",
            "Epoch 10/150\n",
            "3/3 [==============================] - 0s 21ms/step - loss: 0.0035 - val_loss: 0.0055\n",
            "Epoch 11/150\n",
            "3/3 [==============================] - 0s 21ms/step - loss: 0.0041 - val_loss: 0.0027\n",
            "Epoch 12/150\n",
            "3/3 [==============================] - 0s 22ms/step - loss: 0.0018 - val_loss: 0.0031\n",
            "Epoch 13/150\n",
            "3/3 [==============================] - 0s 22ms/step - loss: 0.0020 - val_loss: 0.0011\n",
            "Epoch 14/150\n",
            "3/3 [==============================] - 0s 22ms/step - loss: 0.0013 - val_loss: 0.0027\n",
            "Epoch 15/150\n",
            "3/3 [==============================] - 0s 21ms/step - loss: 0.0014 - val_loss: 0.0013\n",
            "Epoch 16/150\n",
            "3/3 [==============================] - 0s 21ms/step - loss: 0.0012 - val_loss: 0.0022\n",
            "Epoch 17/150\n",
            "3/3 [==============================] - 0s 24ms/step - loss: 0.0013 - val_loss: 0.0011\n",
            "Epoch 18/150\n",
            "3/3 [==============================] - 0s 22ms/step - loss: 9.5996e-04 - val_loss: 8.9028e-04\n",
            "Epoch 19/150\n",
            "3/3 [==============================] - 0s 25ms/step - loss: 6.2658e-04 - val_loss: 8.8661e-04\n",
            "Epoch 20/150\n",
            "3/3 [==============================] - 0s 22ms/step - loss: 8.9489e-04 - val_loss: 6.3187e-04\n",
            "Epoch 21/150\n",
            "3/3 [==============================] - 0s 24ms/step - loss: 6.1339e-04 - val_loss: 6.5063e-04\n",
            "Epoch 22/150\n",
            "3/3 [==============================] - 0s 21ms/step - loss: 6.1868e-04 - val_loss: 6.7435e-04\n",
            "Epoch 23/150\n",
            "3/3 [==============================] - 0s 21ms/step - loss: 4.7107e-04 - val_loss: 4.8749e-04\n",
            "Epoch 24/150\n",
            "3/3 [==============================] - 0s 21ms/step - loss: 3.2819e-04 - val_loss: 5.3752e-04\n",
            "Epoch 25/150\n",
            "3/3 [==============================] - 0s 22ms/step - loss: 3.3218e-04 - val_loss: 4.6452e-04\n",
            "Epoch 26/150\n",
            "3/3 [==============================] - 0s 21ms/step - loss: 3.5281e-04 - val_loss: 5.6580e-04\n",
            "Epoch 27/150\n",
            "3/3 [==============================] - 0s 21ms/step - loss: 3.5407e-04 - val_loss: 4.5862e-04\n",
            "Epoch 28/150\n",
            "3/3 [==============================] - 0s 21ms/step - loss: 2.9145e-04 - val_loss: 3.8985e-04\n",
            "Epoch 29/150\n",
            "3/3 [==============================] - 0s 22ms/step - loss: 2.5964e-04 - val_loss: 3.4800e-04\n",
            "Epoch 30/150\n",
            "3/3 [==============================] - 0s 20ms/step - loss: 2.3506e-04 - val_loss: 3.0860e-04\n",
            "Epoch 31/150\n",
            "3/3 [==============================] - 0s 22ms/step - loss: 2.4453e-04 - val_loss: 2.7792e-04\n",
            "Epoch 32/150\n",
            "3/3 [==============================] - 0s 21ms/step - loss: 2.0985e-04 - val_loss: 2.8406e-04\n",
            "Epoch 33/150\n",
            "3/3 [==============================] - 0s 22ms/step - loss: 2.2041e-04 - val_loss: 2.4051e-04\n",
            "Epoch 34/150\n",
            "3/3 [==============================] - 0s 25ms/step - loss: 1.6860e-04 - val_loss: 2.1359e-04\n",
            "Epoch 35/150\n",
            "3/3 [==============================] - 0s 22ms/step - loss: 1.9124e-04 - val_loss: 2.3290e-04\n",
            "Epoch 36/150\n",
            "3/3 [==============================] - 0s 22ms/step - loss: 1.4065e-04 - val_loss: 1.9605e-04\n",
            "Epoch 37/150\n",
            "3/3 [==============================] - 0s 22ms/step - loss: 1.4498e-04 - val_loss: 1.9329e-04\n",
            "Epoch 38/150\n",
            "3/3 [==============================] - 0s 22ms/step - loss: 1.3564e-04 - val_loss: 1.5666e-04\n",
            "Epoch 39/150\n",
            "3/3 [==============================] - 0s 23ms/step - loss: 1.1211e-04 - val_loss: 1.4842e-04\n",
            "Epoch 40/150\n",
            "3/3 [==============================] - 0s 22ms/step - loss: 9.8546e-05 - val_loss: 1.3308e-04\n",
            "Epoch 41/150\n",
            "3/3 [==============================] - 0s 21ms/step - loss: 9.6454e-05 - val_loss: 1.2490e-04\n",
            "Epoch 42/150\n",
            "3/3 [==============================] - 0s 22ms/step - loss: 1.0572e-04 - val_loss: 1.4508e-04\n",
            "Epoch 43/150\n",
            "3/3 [==============================] - 0s 21ms/step - loss: 1.0092e-04 - val_loss: 1.0819e-04\n",
            "Epoch 44/150\n",
            "3/3 [==============================] - 0s 22ms/step - loss: 8.3077e-05 - val_loss: 9.7876e-05\n",
            "Epoch 45/150\n",
            "3/3 [==============================] - 0s 22ms/step - loss: 8.7217e-05 - val_loss: 8.9241e-05\n",
            "Epoch 46/150\n",
            "3/3 [==============================] - 0s 23ms/step - loss: 7.6971e-05 - val_loss: 1.0322e-04\n",
            "Epoch 47/150\n",
            "3/3 [==============================] - 0s 22ms/step - loss: 9.4227e-05 - val_loss: 1.0917e-04\n",
            "Epoch 48/150\n",
            "3/3 [==============================] - 0s 22ms/step - loss: 9.4191e-05 - val_loss: 7.6178e-05\n",
            "Epoch 49/150\n",
            "3/3 [==============================] - 0s 22ms/step - loss: 6.1649e-05 - val_loss: 7.7233e-05\n",
            "Epoch 50/150\n",
            "3/3 [==============================] - 0s 21ms/step - loss: 6.3520e-05 - val_loss: 8.1382e-05\n",
            "Epoch 51/150\n",
            "3/3 [==============================] - 0s 22ms/step - loss: 6.3766e-05 - val_loss: 6.9275e-05\n",
            "Epoch 52/150\n",
            "3/3 [==============================] - 0s 22ms/step - loss: 5.8654e-05 - val_loss: 6.4897e-05\n",
            "Epoch 53/150\n",
            "3/3 [==============================] - 0s 26ms/step - loss: 4.7349e-05 - val_loss: 6.4643e-05\n",
            "Epoch 54/150\n",
            "3/3 [==============================] - 0s 22ms/step - loss: 5.5954e-05 - val_loss: 5.9837e-05\n",
            "Epoch 55/150\n",
            "3/3 [==============================] - 0s 22ms/step - loss: 5.6775e-05 - val_loss: 6.9424e-05\n",
            "Epoch 56/150\n",
            "3/3 [==============================] - 0s 91ms/step - loss: 5.8678e-05 - val_loss: 5.5174e-05\n",
            "Epoch 57/150\n",
            "3/3 [==============================] - 0s 21ms/step - loss: 5.5696e-05 - val_loss: 5.3142e-05\n",
            "Epoch 58/150\n",
            "3/3 [==============================] - 0s 22ms/step - loss: 4.9434e-05 - val_loss: 7.3501e-05\n",
            "Epoch 59/150\n",
            "3/3 [==============================] - 0s 21ms/step - loss: 5.5963e-05 - val_loss: 6.6774e-05\n",
            "Epoch 60/150\n",
            "3/3 [==============================] - 0s 20ms/step - loss: 7.2644e-05 - val_loss: 7.3600e-05\n",
            "Epoch 61/150\n",
            "3/3 [==============================] - 0s 21ms/step - loss: 5.9907e-05 - val_loss: 1.0727e-04\n",
            "Epoch 62/150\n",
            "3/3 [==============================] - 0s 22ms/step - loss: 7.2841e-05 - val_loss: 7.4643e-05\n",
            "Epoch 63/150\n",
            "3/3 [==============================] - 0s 21ms/step - loss: 6.9919e-05 - val_loss: 6.9848e-05\n",
            "Epoch 64/150\n",
            "3/3 [==============================] - 0s 22ms/step - loss: 8.0542e-05 - val_loss: 6.8262e-05\n",
            "Epoch 65/150\n",
            "3/3 [==============================] - 0s 22ms/step - loss: 5.9438e-05 - val_loss: 5.4474e-05\n",
            "Epoch 66/150\n",
            "3/3 [==============================] - 0s 23ms/step - loss: 5.1123e-05 - val_loss: 5.7076e-05\n",
            "Epoch 67/150\n",
            "3/3 [==============================] - 0s 21ms/step - loss: 5.8041e-05 - val_loss: 5.7918e-05\n",
            "Epoch 68/150\n",
            "3/3 [==============================] - 0s 21ms/step - loss: 5.0006e-05 - val_loss: 4.3110e-05\n",
            "Epoch 69/150\n",
            "3/3 [==============================] - 0s 21ms/step - loss: 3.2726e-05 - val_loss: 4.2734e-05\n",
            "Epoch 70/150\n",
            "3/3 [==============================] - 0s 21ms/step - loss: 3.9979e-05 - val_loss: 4.7501e-05\n",
            "Epoch 71/150\n",
            "3/3 [==============================] - 0s 24ms/step - loss: 3.4606e-05 - val_loss: 4.9633e-05\n",
            "Epoch 72/150\n",
            "3/3 [==============================] - 0s 24ms/step - loss: 3.2486e-05 - val_loss: 4.4680e-05\n",
            "Epoch 73/150\n",
            "3/3 [==============================] - 0s 22ms/step - loss: 4.5652e-05 - val_loss: 4.2287e-05\n",
            "Epoch 74/150\n",
            "3/3 [==============================] - 0s 22ms/step - loss: 3.8325e-05 - val_loss: 5.8339e-05\n",
            "Epoch 75/150\n",
            "3/3 [==============================] - 0s 25ms/step - loss: 3.7920e-05 - val_loss: 4.8289e-05\n",
            "Epoch 76/150\n",
            "3/3 [==============================] - 0s 21ms/step - loss: 4.6810e-05 - val_loss: 4.3073e-05\n",
            "Epoch 77/150\n",
            "3/3 [==============================] - 0s 21ms/step - loss: 3.8798e-05 - val_loss: 4.5756e-05\n",
            "Epoch 78/150\n",
            "3/3 [==============================] - 0s 22ms/step - loss: 4.5085e-05 - val_loss: 3.9036e-05\n",
            "Epoch 79/150\n",
            "3/3 [==============================] - 0s 22ms/step - loss: 2.7665e-05 - val_loss: 5.2714e-05\n",
            "Epoch 80/150\n",
            "3/3 [==============================] - 0s 22ms/step - loss: 4.3846e-05 - val_loss: 6.4981e-05\n",
            "Epoch 81/150\n",
            "3/3 [==============================] - 0s 22ms/step - loss: 5.9328e-05 - val_loss: 4.3504e-05\n",
            "Epoch 82/150\n",
            "3/3 [==============================] - 0s 20ms/step - loss: 5.1802e-05 - val_loss: 5.5509e-05\n",
            "Epoch 83/150\n",
            "3/3 [==============================] - 0s 21ms/step - loss: 3.2537e-05 - val_loss: 3.9924e-05\n",
            "Epoch 84/150\n",
            "3/3 [==============================] - 0s 22ms/step - loss: 4.3516e-05 - val_loss: 4.2852e-05\n",
            "Epoch 85/150\n",
            "3/3 [==============================] - 0s 25ms/step - loss: 4.2318e-05 - val_loss: 7.4812e-05\n",
            "Epoch 86/150\n",
            "3/3 [==============================] - 0s 22ms/step - loss: 6.4324e-05 - val_loss: 8.2167e-05\n",
            "Epoch 87/150\n",
            "3/3 [==============================] - 0s 23ms/step - loss: 5.7223e-05 - val_loss: 6.2124e-05\n",
            "Epoch 88/150\n",
            "3/3 [==============================] - 0s 21ms/step - loss: 4.1542e-05 - val_loss: 7.4090e-05\n",
            "Epoch 89/150\n",
            "3/3 [==============================] - 0s 22ms/step - loss: 6.0283e-05 - val_loss: 7.0418e-05\n",
            "Epoch 90/150\n",
            "3/3 [==============================] - 0s 22ms/step - loss: 4.6993e-05 - val_loss: 5.2424e-05\n",
            "Epoch 91/150\n",
            "3/3 [==============================] - 0s 22ms/step - loss: 5.1909e-05 - val_loss: 3.9010e-05\n",
            "Epoch 92/150\n",
            "3/3 [==============================] - 0s 22ms/step - loss: 5.1603e-05 - val_loss: 4.5907e-05\n",
            "Epoch 93/150\n",
            "3/3 [==============================] - 0s 22ms/step - loss: 5.5634e-05 - val_loss: 1.1814e-04\n",
            "Epoch 94/150\n",
            "3/3 [==============================] - 0s 24ms/step - loss: 7.0486e-05 - val_loss: 1.0796e-04\n",
            "Epoch 95/150\n",
            "3/3 [==============================] - 0s 23ms/step - loss: 7.6528e-05 - val_loss: 1.2176e-04\n",
            "Epoch 96/150\n",
            "3/3 [==============================] - 0s 27ms/step - loss: 7.6088e-05 - val_loss: 4.5153e-05\n",
            "Epoch 97/150\n",
            "3/3 [==============================] - 0s 27ms/step - loss: 6.8638e-05 - val_loss: 5.9288e-05\n",
            "Epoch 98/150\n",
            "3/3 [==============================] - 0s 25ms/step - loss: 1.0137e-04 - val_loss: 1.4998e-04\n",
            "Epoch 99/150\n",
            "3/3 [==============================] - 0s 23ms/step - loss: 1.1889e-04 - val_loss: 1.3341e-04\n",
            "Epoch 100/150\n",
            "3/3 [==============================] - 0s 21ms/step - loss: 7.7499e-05 - val_loss: 6.9224e-05\n",
            "Epoch 101/150\n",
            "3/3 [==============================] - 0s 21ms/step - loss: 4.6886e-05 - val_loss: 8.3239e-05\n",
            "Epoch 102/150\n",
            "3/3 [==============================] - 0s 23ms/step - loss: 5.2706e-05 - val_loss: 3.2517e-05\n",
            "Epoch 103/150\n",
            "3/3 [==============================] - 0s 21ms/step - loss: 3.7402e-05 - val_loss: 4.3422e-05\n",
            "Epoch 104/150\n",
            "3/3 [==============================] - 0s 22ms/step - loss: 4.5056e-05 - val_loss: 5.7190e-05\n",
            "Epoch 105/150\n",
            "3/3 [==============================] - 0s 20ms/step - loss: 5.7883e-05 - val_loss: 7.0785e-05\n",
            "Epoch 106/150\n",
            "3/3 [==============================] - 0s 22ms/step - loss: 5.6852e-05 - val_loss: 1.0152e-04\n",
            "Epoch 107/150\n",
            "3/3 [==============================] - 0s 24ms/step - loss: 1.0513e-04 - val_loss: 4.8498e-05\n",
            "Epoch 108/150\n",
            "3/3 [==============================] - 0s 23ms/step - loss: 4.7748e-05 - val_loss: 5.5709e-05\n",
            "Epoch 109/150\n",
            "3/3 [==============================] - 0s 21ms/step - loss: 6.2687e-05 - val_loss: 5.1233e-05\n",
            "Epoch 110/150\n",
            "3/3 [==============================] - 0s 22ms/step - loss: 6.4023e-05 - val_loss: 1.2184e-04\n",
            "Epoch 111/150\n",
            "3/3 [==============================] - 0s 22ms/step - loss: 8.6229e-05 - val_loss: 2.5558e-04\n",
            "Epoch 112/150\n",
            "3/3 [==============================] - 0s 22ms/step - loss: 1.7004e-04 - val_loss: 3.0106e-04\n",
            "Epoch 113/150\n",
            "3/3 [==============================] - 0s 24ms/step - loss: 1.5430e-04 - val_loss: 1.6868e-04\n",
            "Epoch 114/150\n",
            "3/3 [==============================] - 0s 22ms/step - loss: 1.5070e-04 - val_loss: 6.7078e-05\n",
            "Epoch 115/150\n",
            "3/3 [==============================] - 0s 23ms/step - loss: 1.3773e-04 - val_loss: 1.6092e-04\n",
            "Epoch 116/150\n",
            "3/3 [==============================] - 0s 89ms/step - loss: 1.4853e-04 - val_loss: 1.5912e-04\n",
            "Epoch 117/150\n",
            "3/3 [==============================] - 0s 25ms/step - loss: 1.2929e-04 - val_loss: 2.7007e-04\n",
            "Epoch 118/150\n",
            "3/3 [==============================] - 0s 24ms/step - loss: 1.2978e-04 - val_loss: 1.9717e-04\n",
            "Epoch 119/150\n",
            "3/3 [==============================] - 0s 23ms/step - loss: 7.5125e-05 - val_loss: 1.0391e-04\n",
            "Epoch 120/150\n",
            "3/3 [==============================] - 0s 21ms/step - loss: 5.6929e-05 - val_loss: 3.2343e-05\n",
            "Epoch 121/150\n",
            "3/3 [==============================] - 0s 23ms/step - loss: 4.8073e-05 - val_loss: 8.8621e-05\n",
            "Epoch 122/150\n",
            "3/3 [==============================] - 0s 23ms/step - loss: 1.1381e-04 - val_loss: 7.3791e-05\n",
            "Epoch 123/150\n",
            "3/3 [==============================] - 0s 21ms/step - loss: 8.2252e-05 - val_loss: 8.8206e-05\n",
            "Epoch 124/150\n",
            "3/3 [==============================] - 0s 23ms/step - loss: 9.7871e-05 - val_loss: 2.7432e-05\n",
            "Epoch 125/150\n",
            "3/3 [==============================] - 0s 24ms/step - loss: 4.3902e-05 - val_loss: 5.2290e-05\n",
            "Epoch 126/150\n",
            "3/3 [==============================] - 0s 30ms/step - loss: 1.0046e-04 - val_loss: 8.7418e-05\n",
            "Epoch 127/150\n",
            "3/3 [==============================] - 0s 24ms/step - loss: 8.4294e-05 - val_loss: 4.1930e-05\n",
            "Epoch 128/150\n",
            "3/3 [==============================] - 0s 22ms/step - loss: 6.1287e-05 - val_loss: 4.5131e-05\n",
            "Epoch 129/150\n",
            "3/3 [==============================] - 0s 24ms/step - loss: 9.7440e-05 - val_loss: 1.7237e-04\n",
            "Epoch 130/150\n",
            "3/3 [==============================] - 0s 22ms/step - loss: 2.0503e-04 - val_loss: 3.8168e-04\n",
            "Epoch 131/150\n",
            "3/3 [==============================] - 0s 21ms/step - loss: 4.2450e-04 - val_loss: 3.8796e-04\n",
            "Epoch 132/150\n",
            "3/3 [==============================] - 0s 21ms/step - loss: 4.7051e-04 - val_loss: 9.6291e-05\n",
            "Epoch 133/150\n",
            "3/3 [==============================] - 0s 23ms/step - loss: 1.8172e-04 - val_loss: 1.6876e-04\n",
            "Epoch 134/150\n",
            "3/3 [==============================] - 0s 23ms/step - loss: 1.5189e-04 - val_loss: 1.4023e-04\n",
            "Epoch 135/150\n",
            "3/3 [==============================] - 0s 25ms/step - loss: 1.8656e-04 - val_loss: 9.4946e-05\n",
            "Epoch 136/150\n",
            "3/3 [==============================] - 0s 23ms/step - loss: 9.3056e-05 - val_loss: 7.8675e-05\n",
            "Epoch 137/150\n",
            "3/3 [==============================] - 0s 22ms/step - loss: 6.0469e-05 - val_loss: 2.3942e-04\n",
            "Epoch 138/150\n",
            "3/3 [==============================] - 0s 23ms/step - loss: 2.1428e-04 - val_loss: 1.9457e-04\n",
            "Epoch 139/150\n",
            "3/3 [==============================] - 0s 22ms/step - loss: 2.3838e-04 - val_loss: 3.6192e-05\n",
            "Epoch 140/150\n",
            "3/3 [==============================] - 0s 23ms/step - loss: 1.2961e-04 - val_loss: 3.7409e-04\n",
            "Epoch 141/150\n",
            "3/3 [==============================] - 0s 25ms/step - loss: 3.2542e-04 - val_loss: 5.2754e-05\n",
            "Epoch 142/150\n",
            "3/3 [==============================] - 0s 24ms/step - loss: 1.6145e-04 - val_loss: 2.9817e-04\n",
            "Epoch 143/150\n",
            "3/3 [==============================] - 0s 23ms/step - loss: 3.4320e-04 - val_loss: 1.0680e-04\n",
            "Epoch 144/150\n",
            "3/3 [==============================] - 0s 21ms/step - loss: 1.7041e-04 - val_loss: 9.2557e-05\n",
            "Epoch 145/150\n",
            "3/3 [==============================] - 0s 21ms/step - loss: 2.0636e-04 - val_loss: 2.0360e-04\n",
            "Epoch 146/150\n",
            "3/3 [==============================] - 0s 22ms/step - loss: 2.2403e-04 - val_loss: 2.1750e-04\n",
            "Epoch 147/150\n",
            "3/3 [==============================] - 0s 22ms/step - loss: 2.2530e-04 - val_loss: 2.4230e-05\n",
            "Epoch 148/150\n",
            "3/3 [==============================] - 0s 27ms/step - loss: 7.4647e-05 - val_loss: 1.3675e-04\n",
            "Epoch 149/150\n",
            "3/3 [==============================] - 0s 24ms/step - loss: 1.0180e-04 - val_loss: 7.1297e-05\n",
            "Epoch 150/150\n",
            "3/3 [==============================] - 0s 23ms/step - loss: 7.6845e-05 - val_loss: 2.5293e-05\n"
          ],
          "name": "stdout"
        }
      ]
    },
    {
      "cell_type": "code",
      "metadata": {
        "colab": {
          "base_uri": "https://localhost:8080/",
          "height": 286
        },
        "id": "xEC8tLP4qXDx",
        "outputId": "f3f54fe8-b61c-4f6a-83c9-401b828f1ca2"
      },
      "source": [
        "# visualise loss\r\n",
        "\r\n",
        "plt.plot(r.history['loss'], label = 'loss')\r\n",
        "plt.plot(r.history['val_loss'], label = 'val_loss')"
      ],
      "execution_count": 24,
      "outputs": [
        {
          "output_type": "execute_result",
          "data": {
            "text/plain": [
              "[<matplotlib.lines.Line2D at 0x7fd04daf7518>]"
            ]
          },
          "metadata": {
            "tags": []
          },
          "execution_count": 24
        },
        {
          "output_type": "display_data",
          "data": {
            "image/png": "[encoded data removed]",
            "text/plain": [
              "<Figure size 432x288 with 1 Axes>"
            ]
          },
          "metadata": {
            "tags": [],
            "needs_background": "light"
          }
        }
      ]
    },
    {
      "cell_type": "code",
      "metadata": {
        "id": "xaVG_jX8rGiE"
      },
      "source": [
        "# Wrong way of forecasting with true values\r\n",
        "\r\n",
        "validation_target = Y[-N//2:]\r\n",
        "validation_predictions = []\r\n",
        "\r\n",
        "i = -N//2\r\n",
        "\r\n",
        "while len(validation_predictions) < len(validation_target):\r\n",
        "  p = model.predict(X[i].reshape(1, -1, 1))[0, 0]\r\n",
        "  i += 1\r\n",
        "  validation_predictions.append(p)\r\n"
      ],
      "execution_count": 25,
      "outputs": []
    },
    {
      "cell_type": "code",
      "metadata": {
        "colab": {
          "base_uri": "https://localhost:8080/",
          "height": 283
        },
        "id": "B7FM9WbNs8rM",
        "outputId": "7ce210b3-5dfc-4218-8056-3b74bbd238bf"
      },
      "source": [
        "plt.plot(validation_target, label = 'validation_target')\r\n",
        "plt.plot(validation_predictions, label = 'validation_predictions')"
      ],
      "execution_count": 26,
      "outputs": [
        {
          "output_type": "execute_result",
          "data": {
            "text/plain": [
              "[<matplotlib.lines.Line2D at 0x7fd04daf73c8>]"
            ]
          },
          "metadata": {
            "tags": []
          },
          "execution_count": 26
        },
        {
          "output_type": "display_data",
          "data": {
            "image/png": "[encoded data removed]",
            "text/plain": [
              "<Figure size 432x288 with 1 Axes>"
            ]
          },
          "metadata": {
            "tags": [],
            "needs_background": "light"
          }
        }
      ]
    },
    {
      "cell_type": "code",
      "metadata": {
        "id": "sTEdEHohtWgO"
      },
      "source": [
        " # Forecasting the right way\r\n",
        "\r\n",
        " validation_target = Y[-N//2:]\r\n",
        " validation_predictions = []\r\n",
        "\r\n",
        " last_x = X[-N//2]\r\n",
        "\r\n",
        " while len(validation_predictions) < len(validation_target):\r\n",
        "   p = model.predict(last_x.reshape(1, -1, 1))[0, 0]\r\n",
        "   validation_predictions.append(p)\r\n",
        "\r\n",
        "   last_x = np.roll(last_x, -1)\r\n",
        "   last_x[-1] = p\r\n",
        "   "
      ],
      "execution_count": 27,
      "outputs": []
    },
    {
      "cell_type": "code",
      "metadata": {
        "colab": {
          "base_uri": "https://localhost:8080/",
          "height": 283
        },
        "id": "g4SIufP8zvw9",
        "outputId": "092e94fb-503d-4f90-a56e-a166e3d7b272"
      },
      "source": [
        "plt.plot(validation_target, label='validation_target')\r\n",
        "plt.plot(validation_predictions, label='validation_predictions')"
      ],
      "execution_count": 28,
      "outputs": [
        {
          "output_type": "execute_result",
          "data": {
            "text/plain": [
              "[<matplotlib.lines.Line2D at 0x7fd04ff4b0b8>]"
            ]
          },
          "metadata": {
            "tags": []
          },
          "execution_count": 28
        },
        {
          "output_type": "display_data",
          "data": {
            "image/png": "[encoded data removed]",
            "text/plain": [
              "<Figure size 432x288 with 1 Axes>"
            ]
          },
          "metadata": {
            "tags": [],
            "needs_background": "light"
          }
        }
      ]
    },
    {
      "cell_type": "markdown",
      "metadata": {
        "id": "rnrCcX9p0642"
      },
      "source": [
        "Note that this is a smooth data. You might want to try different activation functions and also set activation to 'None' till desired/acceptable result is achieved"
      ]
    }
  ]
}